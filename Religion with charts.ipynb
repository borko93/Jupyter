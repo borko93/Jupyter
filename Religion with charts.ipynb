{
 "cells": [
  {
   "cell_type": "markdown",
   "id": "afc71f42",
   "metadata": {},
   "source": [
    "Uvoz biblioteka:"
   ]
  },
  {
   "cell_type": "code",
   "execution_count": 105,
   "id": "be4fadf2",
   "metadata": {},
   "outputs": [],
   "source": [
    "import pandas as pd"
   ]
  },
  {
   "cell_type": "code",
   "execution_count": 106,
   "id": "46ab658a",
   "metadata": {},
   "outputs": [],
   "source": [
    "import numpy as np"
   ]
  },
  {
   "cell_type": "code",
   "execution_count": 107,
   "id": "ce3a9f9b",
   "metadata": {},
   "outputs": [],
   "source": [
    "import matplotlib.pyplot as plt"
   ]
  },
  {
   "cell_type": "markdown",
   "id": "840ea8ad",
   "metadata": {},
   "source": [
    "Učitavanje CSV fajla:"
   ]
  },
  {
   "cell_type": "code",
   "execution_count": 108,
   "id": "148b299c",
   "metadata": {},
   "outputs": [],
   "source": [
    "df = pd.read_csv(r\"C:\\Users\\borko\\OneDrive\\Desktop\\Religion_sredjeno.csv\")"
   ]
  },
  {
   "cell_type": "code",
   "execution_count": 109,
   "id": "9e27a04b",
   "metadata": {},
   "outputs": [],
   "source": [
    "df.drop(\"Unnamed: 0\", axis=1, inplace=True)"
   ]
  },
  {
   "cell_type": "code",
   "execution_count": 111,
   "id": "517196e3",
   "metadata": {},
   "outputs": [
    {
     "data": {
      "text/html": [
       "<div>\n",
       "<style scoped>\n",
       "    .dataframe tbody tr th:only-of-type {\n",
       "        vertical-align: middle;\n",
       "    }\n",
       "\n",
       "    .dataframe tbody tr th {\n",
       "        vertical-align: top;\n",
       "    }\n",
       "\n",
       "    .dataframe thead th {\n",
       "        text-align: right;\n",
       "    }\n",
       "</style>\n",
       "<table border=\"1\" class=\"dataframe\">\n",
       "  <thead>\n",
       "    <tr style=\"text-align: right;\">\n",
       "      <th></th>\n",
       "      <th>Koja je vaša vjeroispovijest?</th>\n",
       "      <th>Smatrate li da živite pobožno?</th>\n",
       "      <th>Da li pohađate bogoslužbena mjesta</th>\n",
       "      <th>Koliko često u javnosti koristite spoljašnje znakove pobožnosti?</th>\n",
       "      <th>Koliko često u javnosti koristite neke religiozne predmete prilikom molitve?</th>\n",
       "      <th>Koliko često se molite prije obroka pred ljudima koji ne pripadaju vašoj vjeroispovijesti?</th>\n",
       "      <th>Koliko često kažete nekome da ćete se moliti za nekoga?</th>\n",
       "      <th>Koliko često ponudite nekoga da se moli zajedno sa vama?</th>\n",
       "      <th>Koliko često nepozvani spominjete svoju religiju u razgovorima?</th>\n",
       "      <th>Koliko često nepozvani pitate nekoga za njegovu/njenu religiju u vašim razgovorima</th>\n",
       "      <th>What is your age?</th>\n",
       "      <th>What is your gender?</th>\n",
       "    </tr>\n",
       "  </thead>\n",
       "  <tbody>\n",
       "    <tr>\n",
       "      <th>0</th>\n",
       "      <td>None of these</td>\n",
       "      <td>No</td>\n",
       "      <td>Weekly or more</td>\n",
       "      <td>A few times per week</td>\n",
       "      <td>Not applicable to my religious beliefs</td>\n",
       "      <td>A few times per month</td>\n",
       "      <td>A few times per week</td>\n",
       "      <td>Never</td>\n",
       "      <td>A few times per month</td>\n",
       "      <td>A few times per month</td>\n",
       "      <td>18 - 29</td>\n",
       "      <td>Male</td>\n",
       "    </tr>\n",
       "    <tr>\n",
       "      <th>1</th>\n",
       "      <td>Protestant</td>\n",
       "      <td>No</td>\n",
       "      <td>Weekly or more</td>\n",
       "      <td>A few times per month</td>\n",
       "      <td>Never</td>\n",
       "      <td>Once a year or less</td>\n",
       "      <td>A few times per month</td>\n",
       "      <td>A few times per month</td>\n",
       "      <td>A few times per month</td>\n",
       "      <td>Once a month or less</td>\n",
       "      <td>18 - 29</td>\n",
       "      <td>Male</td>\n",
       "    </tr>\n",
       "    <tr>\n",
       "      <th>2</th>\n",
       "      <td>Muslim</td>\n",
       "      <td>No</td>\n",
       "      <td>Weekly or more</td>\n",
       "      <td>Every day</td>\n",
       "      <td>A few times per month</td>\n",
       "      <td>Never</td>\n",
       "      <td>Once a month or less</td>\n",
       "      <td>Once a month or less</td>\n",
       "      <td>Never</td>\n",
       "      <td>Once a year or less</td>\n",
       "      <td>18 - 29</td>\n",
       "      <td>Male</td>\n",
       "    </tr>\n",
       "    <tr>\n",
       "      <th>3</th>\n",
       "      <td>None of these</td>\n",
       "      <td>No</td>\n",
       "      <td>Weekly or more</td>\n",
       "      <td>Never</td>\n",
       "      <td>Never</td>\n",
       "      <td>Never</td>\n",
       "      <td>Once a month or less</td>\n",
       "      <td>A few times per month</td>\n",
       "      <td>Once a month or less</td>\n",
       "      <td>Once a year or less</td>\n",
       "      <td>18 - 29</td>\n",
       "      <td>Male</td>\n",
       "    </tr>\n",
       "    <tr>\n",
       "      <th>4</th>\n",
       "      <td>None of these</td>\n",
       "      <td>No</td>\n",
       "      <td>Less than weekly</td>\n",
       "      <td>Once a year or less</td>\n",
       "      <td>Never</td>\n",
       "      <td>Once a month or less</td>\n",
       "      <td>Once a month or less</td>\n",
       "      <td>Never</td>\n",
       "      <td>Never</td>\n",
       "      <td>Never</td>\n",
       "      <td>18 - 29</td>\n",
       "      <td>Male</td>\n",
       "    </tr>\n",
       "    <tr>\n",
       "      <th>...</th>\n",
       "      <td>...</td>\n",
       "      <td>...</td>\n",
       "      <td>...</td>\n",
       "      <td>...</td>\n",
       "      <td>...</td>\n",
       "      <td>...</td>\n",
       "      <td>...</td>\n",
       "      <td>...</td>\n",
       "      <td>...</td>\n",
       "      <td>...</td>\n",
       "      <td>...</td>\n",
       "      <td>...</td>\n",
       "    </tr>\n",
       "    <tr>\n",
       "      <th>751</th>\n",
       "      <td>Orthodox Christian</td>\n",
       "      <td>No</td>\n",
       "      <td>Less than weekly</td>\n",
       "      <td>Once a year or less</td>\n",
       "      <td>Never</td>\n",
       "      <td>Never</td>\n",
       "      <td>A few times per month</td>\n",
       "      <td>Once a year or less</td>\n",
       "      <td>Once a month or less</td>\n",
       "      <td>Once a year or less</td>\n",
       "      <td>18 - 29</td>\n",
       "      <td>Female</td>\n",
       "    </tr>\n",
       "    <tr>\n",
       "      <th>752</th>\n",
       "      <td>None of these</td>\n",
       "      <td>No</td>\n",
       "      <td>Weekly or more</td>\n",
       "      <td>Not applicable to my religious beliefs</td>\n",
       "      <td>A few times per month</td>\n",
       "      <td>A few times per week</td>\n",
       "      <td>A few times per week</td>\n",
       "      <td>A few times per week</td>\n",
       "      <td>A few times per week</td>\n",
       "      <td>Never</td>\n",
       "      <td>30 - 44</td>\n",
       "      <td>Female</td>\n",
       "    </tr>\n",
       "    <tr>\n",
       "      <th>753</th>\n",
       "      <td>None of these</td>\n",
       "      <td>No</td>\n",
       "      <td>Never</td>\n",
       "      <td>Never</td>\n",
       "      <td>Never</td>\n",
       "      <td>Never</td>\n",
       "      <td>Never</td>\n",
       "      <td>Never</td>\n",
       "      <td>Never</td>\n",
       "      <td>Never</td>\n",
       "      <td>45 - 59</td>\n",
       "      <td>Female</td>\n",
       "    </tr>\n",
       "    <tr>\n",
       "      <th>754</th>\n",
       "      <td>Buddhist</td>\n",
       "      <td>No</td>\n",
       "      <td>Weekly or more</td>\n",
       "      <td>Never</td>\n",
       "      <td>Never</td>\n",
       "      <td>Never</td>\n",
       "      <td>A few times per week</td>\n",
       "      <td>Never</td>\n",
       "      <td>Never</td>\n",
       "      <td>Never</td>\n",
       "      <td>45 - 59</td>\n",
       "      <td>Female</td>\n",
       "    </tr>\n",
       "    <tr>\n",
       "      <th>755</th>\n",
       "      <td>Roman Catholic</td>\n",
       "      <td>No</td>\n",
       "      <td>Never</td>\n",
       "      <td>Once a year or less</td>\n",
       "      <td>Once a year or less</td>\n",
       "      <td>Never</td>\n",
       "      <td>Once a year or less</td>\n",
       "      <td>Never</td>\n",
       "      <td>Once a year or less</td>\n",
       "      <td>Once a year or less</td>\n",
       "      <td>18 - 29</td>\n",
       "      <td>Male</td>\n",
       "    </tr>\n",
       "  </tbody>\n",
       "</table>\n",
       "<p>756 rows × 12 columns</p>\n",
       "</div>"
      ],
      "text/plain": [
       "    Koja je vaša vjeroispovijest? Smatrate li da živite pobožno?  \\\n",
       "0                   None of these                             No   \n",
       "1                      Protestant                             No   \n",
       "2                          Muslim                             No   \n",
       "3                   None of these                             No   \n",
       "4                   None of these                             No   \n",
       "..                            ...                            ...   \n",
       "751            Orthodox Christian                             No   \n",
       "752                 None of these                             No   \n",
       "753                 None of these                             No   \n",
       "754                      Buddhist                             No   \n",
       "755                Roman Catholic                             No   \n",
       "\n",
       "    Da li pohađate bogoslužbena mjesta  \\\n",
       "0                       Weekly or more   \n",
       "1                       Weekly or more   \n",
       "2                       Weekly or more   \n",
       "3                       Weekly or more   \n",
       "4                     Less than weekly   \n",
       "..                                 ...   \n",
       "751                   Less than weekly   \n",
       "752                     Weekly or more   \n",
       "753                              Never   \n",
       "754                     Weekly or more   \n",
       "755                              Never   \n",
       "\n",
       "    Koliko često u javnosti koristite spoljašnje znakove pobožnosti?  \\\n",
       "0                                 A few times per week                 \n",
       "1                                A few times per month                 \n",
       "2                                            Every day                 \n",
       "3                                                Never                 \n",
       "4                                  Once a year or less                 \n",
       "..                                                 ...                 \n",
       "751                                Once a year or less                 \n",
       "752             Not applicable to my religious beliefs                 \n",
       "753                                              Never                 \n",
       "754                                              Never                 \n",
       "755                                Once a year or less                 \n",
       "\n",
       "    Koliko često u javnosti koristite neke religiozne predmete prilikom molitve?  \\\n",
       "0               Not applicable to my religious beliefs                             \n",
       "1                                                Never                             \n",
       "2                                A few times per month                             \n",
       "3                                                Never                             \n",
       "4                                                Never                             \n",
       "..                                                 ...                             \n",
       "751                                              Never                             \n",
       "752                              A few times per month                             \n",
       "753                                              Never                             \n",
       "754                                              Never                             \n",
       "755                                Once a year or less                             \n",
       "\n",
       "    Koliko često se molite prije obroka pred ljudima koji ne pripadaju vašoj vjeroispovijesti?  \\\n",
       "0                                A few times per month                                           \n",
       "1                                  Once a year or less                                           \n",
       "2                                                Never                                           \n",
       "3                                                Never                                           \n",
       "4                                 Once a month or less                                           \n",
       "..                                                 ...                                           \n",
       "751                                              Never                                           \n",
       "752                               A few times per week                                           \n",
       "753                                              Never                                           \n",
       "754                                              Never                                           \n",
       "755                                              Never                                           \n",
       "\n",
       "    Koliko često kažete nekome da ćete se moliti za nekoga?  \\\n",
       "0                                 A few times per week        \n",
       "1                                A few times per month        \n",
       "2                                 Once a month or less        \n",
       "3                                 Once a month or less        \n",
       "4                                 Once a month or less        \n",
       "..                                                 ...        \n",
       "751                              A few times per month        \n",
       "752                               A few times per week        \n",
       "753                                              Never        \n",
       "754                               A few times per week        \n",
       "755                                Once a year or less        \n",
       "\n",
       "    Koliko često ponudite nekoga da se moli zajedno sa vama?  \\\n",
       "0                                                Never         \n",
       "1                                A few times per month         \n",
       "2                                 Once a month or less         \n",
       "3                                A few times per month         \n",
       "4                                                Never         \n",
       "..                                                 ...         \n",
       "751                                Once a year or less         \n",
       "752                               A few times per week         \n",
       "753                                              Never         \n",
       "754                                              Never         \n",
       "755                                              Never         \n",
       "\n",
       "    Koliko često nepozvani spominjete svoju religiju u razgovorima?  \\\n",
       "0                                A few times per month                \n",
       "1                                A few times per month                \n",
       "2                                                Never                \n",
       "3                                 Once a month or less                \n",
       "4                                                Never                \n",
       "..                                                 ...                \n",
       "751                               Once a month or less                \n",
       "752                               A few times per week                \n",
       "753                                              Never                \n",
       "754                                              Never                \n",
       "755                                Once a year or less                \n",
       "\n",
       "    Koliko često nepozvani pitate nekoga za njegovu/njenu religiju u vašim razgovorima  \\\n",
       "0                                A few times per month                                   \n",
       "1                                 Once a month or less                                   \n",
       "2                                  Once a year or less                                   \n",
       "3                                  Once a year or less                                   \n",
       "4                                                Never                                   \n",
       "..                                                 ...                                   \n",
       "751                                Once a year or less                                   \n",
       "752                                              Never                                   \n",
       "753                                              Never                                   \n",
       "754                                              Never                                   \n",
       "755                                Once a year or less                                   \n",
       "\n",
       "    What is your age? What is your gender?  \n",
       "0             18 - 29                 Male  \n",
       "1             18 - 29                 Male  \n",
       "2             18 - 29                 Male  \n",
       "3             18 - 29                 Male  \n",
       "4             18 - 29                 Male  \n",
       "..                ...                  ...  \n",
       "751           18 - 29               Female  \n",
       "752           30 - 44               Female  \n",
       "753           45 - 59               Female  \n",
       "754           45 - 59               Female  \n",
       "755           18 - 29                 Male  \n",
       "\n",
       "[756 rows x 12 columns]"
      ]
     },
     "execution_count": 111,
     "metadata": {},
     "output_type": "execute_result"
    }
   ],
   "source": [
    "df"
   ]
  },
  {
   "cell_type": "markdown",
   "id": "88df6eb9",
   "metadata": {},
   "source": [
    "Muslimani"
   ]
  },
  {
   "cell_type": "code",
   "execution_count": 28,
   "id": "b0779034",
   "metadata": {},
   "outputs": [],
   "source": [
    "muslimani = df[(df[\"Koja je vaša vjeroispovijest?\"] ==\"Muslim\") & (df[\"What is your gender?\"] ==\"Male\")] [\"Da li pohađate bogoslužbena mjesta\"]"
   ]
  },
  {
   "cell_type": "code",
   "execution_count": 31,
   "id": "33d02eb4",
   "metadata": {},
   "outputs": [],
   "source": [
    "muslimanke = df[(df[\"Koja je vaša vjeroispovijest?\"] ==\"Muslim\") & (df[\"What is your gender?\"] ==\"Female\")][\"Da li pohađate bogoslužbena mjesta\"]"
   ]
  },
  {
   "cell_type": "code",
   "execution_count": 36,
   "id": "eb8106f1",
   "metadata": {},
   "outputs": [
    {
     "data": {
      "text/plain": [
       "Weekly or more      4\n",
       "Less than weekly    3\n",
       "Name: Da li pohađate bogoslužbena mjesta, dtype: int64"
      ]
     },
     "execution_count": 36,
     "metadata": {},
     "output_type": "execute_result"
    }
   ],
   "source": [
    "muslimani.value_counts()"
   ]
  },
  {
   "cell_type": "code",
   "execution_count": 37,
   "id": "dc33a425",
   "metadata": {},
   "outputs": [
    {
     "data": {
      "text/plain": [
       "Weekly or more      2\n",
       "Less than weekly    1\n",
       "Name: Da li pohađate bogoslužbena mjesta, dtype: int64"
      ]
     },
     "execution_count": 37,
     "metadata": {},
     "output_type": "execute_result"
    }
   ],
   "source": [
    "muslimanke.value_counts()"
   ]
  },
  {
   "cell_type": "markdown",
   "id": "1f163be1",
   "metadata": {},
   "source": [
    "Pravoslavci"
   ]
  },
  {
   "cell_type": "code",
   "execution_count": 33,
   "id": "5a13edc7",
   "metadata": {},
   "outputs": [],
   "source": [
    "pravoslavci = df[(df[\"Koja je vaša vjeroispovijest?\"] ==\"Orthodox Christian\") & (df[\"What is your gender?\"] ==\"Male\")] [\"Da li pohađate bogoslužbena mjesta\"]"
   ]
  },
  {
   "cell_type": "code",
   "execution_count": 39,
   "id": "6ebaa919",
   "metadata": {},
   "outputs": [],
   "source": [
    "pravoslavke = df[(df[\"Koja je vaša vjeroispovijest?\"] ==\"Orthodox Christian\") & (df[\"What is your gender?\"] ==\"Female\")] [\"Da li pohađate bogoslužbena mjesta\"]"
   ]
  },
  {
   "cell_type": "code",
   "execution_count": 114,
   "id": "a22d0612",
   "metadata": {},
   "outputs": [
    {
     "data": {
      "text/plain": [
       "Less than weekly    27\n",
       "Weekly or more      20\n",
       "Never               14\n",
       "Name: Da li pohađate bogoslužbena mjesta, dtype: int64"
      ]
     },
     "execution_count": 114,
     "metadata": {},
     "output_type": "execute_result"
    }
   ],
   "source": [
    "pravoslavci.value_counts()"
   ]
  },
  {
   "cell_type": "code",
   "execution_count": 41,
   "id": "a24f9cdf",
   "metadata": {},
   "outputs": [
    {
     "data": {
      "text/plain": [
       "Less than weekly    12\n",
       "Weekly or more       4\n",
       "Never                3\n",
       "Name: Da li pohađate bogoslužbena mjesta, dtype: int64"
      ]
     },
     "execution_count": 41,
     "metadata": {},
     "output_type": "execute_result"
    }
   ],
   "source": [
    "pravoslavke.value_counts()"
   ]
  },
  {
   "cell_type": "markdown",
   "id": "2cf55378",
   "metadata": {},
   "source": [
    "Rimokatolici"
   ]
  },
  {
   "cell_type": "code",
   "execution_count": 43,
   "id": "c24d5b28",
   "metadata": {},
   "outputs": [],
   "source": [
    "katolici = df[(df[\"Koja je vaša vjeroispovijest?\"] ==\"Roman Catholic\") & (df[\"What is your gender?\"] ==\"Male\")] [\"Da li pohađate bogoslužbena mjesta\"]"
   ]
  },
  {
   "cell_type": "code",
   "execution_count": 44,
   "id": "d72117f7",
   "metadata": {},
   "outputs": [],
   "source": [
    "katolkinje = df[(df[\"Koja je vaša vjeroispovijest?\"] ==\"Roman Catholic\") & (df[\"What is your gender?\"] ==\"Female\")] [\"Da li pohađate bogoslužbena mjesta\"]"
   ]
  },
  {
   "cell_type": "code",
   "execution_count": 45,
   "id": "f9c3dd67",
   "metadata": {},
   "outputs": [
    {
     "data": {
      "text/plain": [
       "Less than weekly    27\n",
       "Weekly or more      20\n",
       "Never               14\n",
       "Name: Da li pohađate bogoslužbena mjesta, dtype: int64"
      ]
     },
     "execution_count": 45,
     "metadata": {},
     "output_type": "execute_result"
    }
   ],
   "source": [
    "katolici.value_counts()"
   ]
  },
  {
   "cell_type": "code",
   "execution_count": 46,
   "id": "071272f9",
   "metadata": {},
   "outputs": [
    {
     "data": {
      "text/plain": [
       "Less than weekly    42\n",
       "Weekly or more      28\n",
       "Never               18\n",
       "Name: Da li pohađate bogoslužbena mjesta, dtype: int64"
      ]
     },
     "execution_count": 46,
     "metadata": {},
     "output_type": "execute_result"
    }
   ],
   "source": [
    "katolkinje.value_counts()"
   ]
  },
  {
   "cell_type": "markdown",
   "id": "397aa0da",
   "metadata": {},
   "source": [
    "Protestanti"
   ]
  },
  {
   "cell_type": "code",
   "execution_count": 47,
   "id": "f4177203",
   "metadata": {},
   "outputs": [],
   "source": [
    "protestanti = df[(df[\"Koja je vaša vjeroispovijest?\"] ==\"Protestant\") & (df[\"What is your gender?\"] ==\"Male\")] [\"Da li pohađate bogoslužbena mjesta\"]"
   ]
  },
  {
   "cell_type": "code",
   "execution_count": 48,
   "id": "31a62869",
   "metadata": {},
   "outputs": [],
   "source": [
    "protestantkinje = df[(df[\"Koja je vaša vjeroispovijest?\"] ==\"Protestant\") & (df[\"What is your gender?\"] ==\"Female\")] [\"Da li pohađate bogoslužbena mjesta\"]"
   ]
  },
  {
   "cell_type": "code",
   "execution_count": 49,
   "id": "b16bac6c",
   "metadata": {},
   "outputs": [
    {
     "data": {
      "text/plain": [
       "Weekly or more      35\n",
       "Less than weekly    27\n",
       "Never               14\n",
       "Name: Da li pohađate bogoslužbena mjesta, dtype: int64"
      ]
     },
     "execution_count": 49,
     "metadata": {},
     "output_type": "execute_result"
    }
   ],
   "source": [
    "protestanti.value_counts()"
   ]
  },
  {
   "cell_type": "code",
   "execution_count": 52,
   "id": "97d18de9",
   "metadata": {},
   "outputs": [
    {
     "data": {
      "text/plain": [
       "Weekly or more      45\n",
       "Less than weekly    43\n",
       "Never               25\n",
       "Name: Da li pohađate bogoslužbena mjesta, dtype: int64"
      ]
     },
     "execution_count": 52,
     "metadata": {},
     "output_type": "execute_result"
    }
   ],
   "source": [
    "protestantkinje.value_counts()"
   ]
  },
  {
   "cell_type": "markdown",
   "id": "b2bc1d8d",
   "metadata": {},
   "source": [
    "Pravljenje data frame-a za chart:\n"
   ]
  },
  {
   "cell_type": "code",
   "execution_count": 82,
   "id": "2a84925d",
   "metadata": {},
   "outputs": [],
   "source": [
    "poredjenje = pd.DataFrame({\"Weekly or more\":[4,2,12,14,20,28,35,45] ,\n",
    "                            \"Less than weekly\":[3,1,11,12,27,42,27,43] ,\n",
    "                            \"Never\":[0,0,6,3,14,18,14,25]},\n",
    "                           index=[\"M(M)\",\"M(Ž)\",\"P(M)\",\"P(Ž)\",\"R(M)\",\"R(Ž)\", \"Prot.(M)\", \"Prot.(Ž)\"])"
   ]
  },
  {
   "cell_type": "markdown",
   "id": "7dde5a4d",
   "metadata": {},
   "source": [
    "Crtanje dijagrama:"
   ]
  },
  {
   "cell_type": "code",
   "execution_count": 103,
   "id": "784dfafc",
   "metadata": {},
   "outputs": [
    {
     "data": {
      "text/plain": [
       "<bound method Axes.legend of <Axes: title={'center': 'Less than weekly'}>>"
      ]
     },
     "execution_count": 103,
     "metadata": {},
     "output_type": "execute_result"
    },
    {
     "data": {
      "image/png": "[encoded data removed]",
      "text/plain": [
       "<Figure size 640x480 with 3 Axes>"
      ]
     },
     "metadata": {},
     "output_type": "display_data"
    }
   ],
   "source": [
    "axes = poredjenje.plot.bar(rot=0, subplots=True)\n",
    "\n",
    "axes[1].legend\n"
   ]
  },
  {
   "cell_type": "markdown",
   "id": "eaf4bec1",
   "metadata": {},
   "source": []
  },
  {
   "cell_type": "code",
   "execution_count": null,
   "id": "9c24194b",
   "metadata": {},
   "outputs": [],
   "source": []
  }
 ],
 "metadata": {
  "kernelspec": {
   "display_name": "Python 3 (ipykernel)",
   "language": "python",
   "name": "python3"
  },
  "language_info": {
   "codemirror_mode": {
    "name": "ipython",
    "version": 3
   },
   "file_extension": ".py",
   "mimetype": "text/x-python",
   "name": "python",
   "nbconvert_exporter": "python",
   "pygments_lexer": "ipython3",
   "version": "3.11.4"
  }
 },
 "nbformat": 4,
 "nbformat_minor": 5
}
