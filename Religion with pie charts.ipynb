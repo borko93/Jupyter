{
 "cells": [
  {
   "cell_type": "code",
   "execution_count": 112,
   "id": "c2afe06f",
   "metadata": {},
   "outputs": [],
   "source": [
    "import pandas as pd\n",
    "import numpy as np\n",
    "import matplotlib.pyplot as plt"
   ]
  },
  {
   "cell_type": "code",
   "execution_count": 94,
   "id": "bf6b2ab9",
   "metadata": {},
   "outputs": [],
   "source": [
    "df = pd.read_csv(r\"C:\\Users\\borko\\OneDrive\\Desktop\\Jupyter datasets\\religion-survey-results.csv\")\n"
   ]
  },
  {
   "cell_type": "code",
   "execution_count": 95,
   "id": "6d69161b",
   "metadata": {
    "scrolled": false
   },
   "outputs": [
    {
     "data": {
      "text/html": [
       "<div>\n",
       "<style scoped>\n",
       "    .dataframe tbody tr th:only-of-type {\n",
       "        vertical-align: middle;\n",
       "    }\n",
       "\n",
       "    .dataframe tbody tr th {\n",
       "        vertical-align: top;\n",
       "    }\n",
       "\n",
       "    .dataframe thead th {\n",
       "        text-align: right;\n",
       "    }\n",
       "</style>\n",
       "<table border=\"1\" class=\"dataframe\">\n",
       "  <thead>\n",
       "    <tr style=\"text-align: right;\">\n",
       "      <th></th>\n",
       "      <th>Koja je vaša vjeroispovijest?</th>\n",
       "      <th>Neizjašnjen</th>\n",
       "      <th>Do you consider yourself to be an evangelical?</th>\n",
       "      <th>Do you attend religious services</th>\n",
       "      <th>How often do you: Pray in public with visible motions (sign of the cross, bowing, prostration, shokeling, etc)</th>\n",
       "      <th>How often do you: Pray in public using some kind of physical object (rosary, tefillin, etc)</th>\n",
       "      <th>How often do you: Pray aloud before meals in the presence of people who don't belong to your religion</th>\n",
       "      <th>How often do you: Tell someone you'll pray for him or her</th>\n",
       "      <th>How often do you: Ask or offer to pray with someone</th>\n",
       "      <th>How often do you: Bring up your religion, unprompted, in conversation</th>\n",
       "      <th>...</th>\n",
       "      <th>How comfortable would you be seeing someone who practices a different religion from you: Ask or offer to pray with you</th>\n",
       "      <th>How comfortable would you be seeing someone who practices a different religion from you: Bring up his or her own religion, unprompted, in conversation</th>\n",
       "      <th>How comfortable would you be seeing someone who practices a different religion from you: Ask you about your religion, unprompted, in conversation</th>\n",
       "      <th>How comfortable would you be seeing someone who practices a different religion from you: Decline some kind of food or beverage for religious reasons (kosher, halal, fasting rules, etc)</th>\n",
       "      <th>How comfortable would you be seeing someone who practices a different religion from you: Wear religious clothing/jewelry (hijab, kippah, wig, kara, turban, cross, etc)</th>\n",
       "      <th>How comfortable would you be seeing someone who practices a different religion from you: Participate in a public religious event on the streets (Corpus Christi procession, inauguration of Torah scrolls, etc)</th>\n",
       "      <th>What is your age?</th>\n",
       "      <th>What is your gender?</th>\n",
       "      <th>How much total combined money did all members of your HOUSEHOLD earn last year?</th>\n",
       "      <th>US Region</th>\n",
       "    </tr>\n",
       "  </thead>\n",
       "  <tbody>\n",
       "    <tr>\n",
       "      <th>0</th>\n",
       "      <td>Response</td>\n",
       "      <td>None of these</td>\n",
       "      <td>Response</td>\n",
       "      <td>Response</td>\n",
       "      <td>Response</td>\n",
       "      <td>Response</td>\n",
       "      <td>Response</td>\n",
       "      <td>Response</td>\n",
       "      <td>Response</td>\n",
       "      <td>Response</td>\n",
       "      <td>...</td>\n",
       "      <td>Response</td>\n",
       "      <td>Response</td>\n",
       "      <td>Response</td>\n",
       "      <td>Response</td>\n",
       "      <td>Response</td>\n",
       "      <td>Response</td>\n",
       "      <td>Response</td>\n",
       "      <td>Response</td>\n",
       "      <td>Response</td>\n",
       "      <td>Response</td>\n",
       "    </tr>\n",
       "    <tr>\n",
       "      <th>1</th>\n",
       "      <td>None of these</td>\n",
       "      <td>Wesleyan Christian</td>\n",
       "      <td>No</td>\n",
       "      <td>Weekly or more</td>\n",
       "      <td>A few times per week</td>\n",
       "      <td>Not applicable to my religious beliefs</td>\n",
       "      <td>A few times per month</td>\n",
       "      <td>A few times per week</td>\n",
       "      <td>Never</td>\n",
       "      <td>A few times per month</td>\n",
       "      <td>...</td>\n",
       "      <td>Extremely comfortable</td>\n",
       "      <td>Extremely comfortable</td>\n",
       "      <td>Extremely comfortable</td>\n",
       "      <td>Extremely comfortable</td>\n",
       "      <td>Extremely comfortable</td>\n",
       "      <td>Extremely comfortable</td>\n",
       "      <td>18 - 29</td>\n",
       "      <td>Male</td>\n",
       "      <td>$0 to $9,999</td>\n",
       "      <td>East North Central</td>\n",
       "    </tr>\n",
       "    <tr>\n",
       "      <th>2</th>\n",
       "      <td>Atheist</td>\n",
       "      <td>NaN</td>\n",
       "      <td>NaN</td>\n",
       "      <td>NaN</td>\n",
       "      <td>NaN</td>\n",
       "      <td>NaN</td>\n",
       "      <td>NaN</td>\n",
       "      <td>NaN</td>\n",
       "      <td>NaN</td>\n",
       "      <td>NaN</td>\n",
       "      <td>...</td>\n",
       "      <td>Very comfortable</td>\n",
       "      <td>Somewhat comfortably</td>\n",
       "      <td>Very comfortable</td>\n",
       "      <td>Extremely comfortable</td>\n",
       "      <td>Extremely comfortable</td>\n",
       "      <td>Extremely comfortable</td>\n",
       "      <td>18 - 29</td>\n",
       "      <td>Male</td>\n",
       "      <td>$10,000 to $24,999</td>\n",
       "      <td>Middle Atlantic</td>\n",
       "    </tr>\n",
       "    <tr>\n",
       "      <th>3</th>\n",
       "      <td>Protestant</td>\n",
       "      <td>NaN</td>\n",
       "      <td>No</td>\n",
       "      <td>Weekly or more</td>\n",
       "      <td>A few times per month</td>\n",
       "      <td>Never</td>\n",
       "      <td>Once a year or less</td>\n",
       "      <td>A few times per month</td>\n",
       "      <td>A few times per month</td>\n",
       "      <td>A few times per month</td>\n",
       "      <td>...</td>\n",
       "      <td>Extremely comfortable</td>\n",
       "      <td>Extremely comfortable</td>\n",
       "      <td>Extremely comfortable</td>\n",
       "      <td>Extremely comfortable</td>\n",
       "      <td>Extremely comfortable</td>\n",
       "      <td>Extremely comfortable</td>\n",
       "      <td>18 - 29</td>\n",
       "      <td>Male</td>\n",
       "      <td>$25,000 to $49,999</td>\n",
       "      <td>East North Central</td>\n",
       "    </tr>\n",
       "    <tr>\n",
       "      <th>4</th>\n",
       "      <td>Muslim</td>\n",
       "      <td>NaN</td>\n",
       "      <td>No</td>\n",
       "      <td>Weekly or more</td>\n",
       "      <td>Every day</td>\n",
       "      <td>A few times per month</td>\n",
       "      <td>Never</td>\n",
       "      <td>Once a month or less</td>\n",
       "      <td>Once a month or less</td>\n",
       "      <td>Never</td>\n",
       "      <td>...</td>\n",
       "      <td>Very comfortable</td>\n",
       "      <td>Very comfortable</td>\n",
       "      <td>Very comfortable</td>\n",
       "      <td>Very comfortable</td>\n",
       "      <td>Very comfortable</td>\n",
       "      <td>Very comfortable</td>\n",
       "      <td>18 - 29</td>\n",
       "      <td>Male</td>\n",
       "      <td>$0 to $9,999</td>\n",
       "      <td>South Atlantic</td>\n",
       "    </tr>\n",
       "  </tbody>\n",
       "</table>\n",
       "<p>5 rows × 48 columns</p>\n",
       "</div>"
      ],
      "text/plain": [
       "  Koja je vaša vjeroispovijest?         Neizjašnjen  \\\n",
       "0                      Response       None of these   \n",
       "1                 None of these  Wesleyan Christian   \n",
       "2                       Atheist                 NaN   \n",
       "3                    Protestant                 NaN   \n",
       "4                        Muslim                 NaN   \n",
       "\n",
       "  Do you consider yourself to be an evangelical?  \\\n",
       "0                                       Response   \n",
       "1                                             No   \n",
       "2                                            NaN   \n",
       "3                                             No   \n",
       "4                                             No   \n",
       "\n",
       "  Do you attend religious services  \\\n",
       "0                         Response   \n",
       "1                   Weekly or more   \n",
       "2                              NaN   \n",
       "3                   Weekly or more   \n",
       "4                   Weekly or more   \n",
       "\n",
       "  How often do you: Pray in public with visible motions (sign of the cross, bowing, prostration, shokeling, etc)  \\\n",
       "0                                           Response                                                               \n",
       "1                               A few times per week                                                               \n",
       "2                                                NaN                                                               \n",
       "3                              A few times per month                                                               \n",
       "4                                          Every day                                                               \n",
       "\n",
       "  How often do you: Pray in public using some kind of physical object (rosary, tefillin, etc)  \\\n",
       "0                                           Response                                            \n",
       "1             Not applicable to my religious beliefs                                            \n",
       "2                                                NaN                                            \n",
       "3                                              Never                                            \n",
       "4                              A few times per month                                            \n",
       "\n",
       "  How often do you: Pray aloud before meals in the presence of people who don't belong to your religion  \\\n",
       "0                                           Response                                                      \n",
       "1                              A few times per month                                                      \n",
       "2                                                NaN                                                      \n",
       "3                                Once a year or less                                                      \n",
       "4                                              Never                                                      \n",
       "\n",
       "  How often do you: Tell someone you'll pray for him or her  \\\n",
       "0                                           Response          \n",
       "1                               A few times per week          \n",
       "2                                                NaN          \n",
       "3                              A few times per month          \n",
       "4                               Once a month or less          \n",
       "\n",
       "  How often do you: Ask or offer to pray with someone  \\\n",
       "0                                           Response    \n",
       "1                                              Never    \n",
       "2                                                NaN    \n",
       "3                              A few times per month    \n",
       "4                               Once a month or less    \n",
       "\n",
       "  How often do you: Bring up your religion, unprompted, in conversation  ...  \\\n",
       "0                                           Response                     ...   \n",
       "1                              A few times per month                     ...   \n",
       "2                                                NaN                     ...   \n",
       "3                              A few times per month                     ...   \n",
       "4                                              Never                     ...   \n",
       "\n",
       "  How comfortable would you be seeing someone who practices a different religion from you: Ask or offer to pray with you  \\\n",
       "0                                           Response                                                                       \n",
       "1                              Extremely comfortable                                                                       \n",
       "2                                   Very comfortable                                                                       \n",
       "3                              Extremely comfortable                                                                       \n",
       "4                                   Very comfortable                                                                       \n",
       "\n",
       "  How comfortable would you be seeing someone who practices a different religion from you: Bring up his or her own religion, unprompted, in conversation  \\\n",
       "0                                           Response                                                                                                       \n",
       "1                              Extremely comfortable                                                                                                       \n",
       "2                               Somewhat comfortably                                                                                                       \n",
       "3                              Extremely comfortable                                                                                                       \n",
       "4                                   Very comfortable                                                                                                       \n",
       "\n",
       "  How comfortable would you be seeing someone who practices a different religion from you: Ask you about your religion, unprompted, in conversation  \\\n",
       "0                                           Response                                                                                                  \n",
       "1                              Extremely comfortable                                                                                                  \n",
       "2                                   Very comfortable                                                                                                  \n",
       "3                              Extremely comfortable                                                                                                  \n",
       "4                                   Very comfortable                                                                                                  \n",
       "\n",
       "  How comfortable would you be seeing someone who practices a different religion from you: Decline some kind of food or beverage for religious reasons (kosher, halal, fasting rules, etc)  \\\n",
       "0                                           Response                                                                                                                                         \n",
       "1                              Extremely comfortable                                                                                                                                         \n",
       "2                              Extremely comfortable                                                                                                                                         \n",
       "3                              Extremely comfortable                                                                                                                                         \n",
       "4                                   Very comfortable                                                                                                                                         \n",
       "\n",
       "  How comfortable would you be seeing someone who practices a different religion from you: Wear religious clothing/jewelry (hijab, kippah, wig, kara, turban, cross, etc)  \\\n",
       "0                                           Response                                                                                                                        \n",
       "1                              Extremely comfortable                                                                                                                        \n",
       "2                              Extremely comfortable                                                                                                                        \n",
       "3                              Extremely comfortable                                                                                                                        \n",
       "4                                   Very comfortable                                                                                                                        \n",
       "\n",
       "  How comfortable would you be seeing someone who practices a different religion from you: Participate in a public religious event on the streets (Corpus Christi procession, inauguration of Torah scrolls, etc)  \\\n",
       "0                                           Response                                                                                                                                                                \n",
       "1                              Extremely comfortable                                                                                                                                                                \n",
       "2                              Extremely comfortable                                                                                                                                                                \n",
       "3                              Extremely comfortable                                                                                                                                                                \n",
       "4                                   Very comfortable                                                                                                                                                                \n",
       "\n",
       "  What is your age? What is your gender?  \\\n",
       "0          Response             Response   \n",
       "1           18 - 29                 Male   \n",
       "2           18 - 29                 Male   \n",
       "3           18 - 29                 Male   \n",
       "4           18 - 29                 Male   \n",
       "\n",
       "  How much total combined money did all members of your HOUSEHOLD earn last year?  \\\n",
       "0                                           Response                                \n",
       "1                                       $0 to $9,999                                \n",
       "2                                 $10,000 to $24,999                                \n",
       "3                                 $25,000 to $49,999                                \n",
       "4                                       $0 to $9,999                                \n",
       "\n",
       "            US Region  \n",
       "0            Response  \n",
       "1  East North Central  \n",
       "2     Middle Atlantic  \n",
       "3  East North Central  \n",
       "4      South Atlantic  \n",
       "\n",
       "[5 rows x 48 columns]"
      ]
     },
     "execution_count": 95,
     "metadata": {},
     "output_type": "execute_result"
    }
   ],
   "source": [
    "df.head()"
   ]
  },
  {
   "cell_type": "code",
   "execution_count": 96,
   "id": "179ccc13",
   "metadata": {},
   "outputs": [],
   "source": [
    "df = df.drop(\"Neizjašnjen\", axis = 1)"
   ]
  },
  {
   "cell_type": "code",
   "execution_count": 97,
   "id": "0583ba6f",
   "metadata": {},
   "outputs": [],
   "source": [
    "df = df.dropna()"
   ]
  },
  {
   "cell_type": "code",
   "execution_count": 98,
   "id": "36ce6b09",
   "metadata": {},
   "outputs": [
    {
     "data": {
      "text/plain": [
       "Index(['Koja je vaša vjeroispovijest?',\n",
       "       'Do you consider yourself to be an evangelical?',\n",
       "       'Do you attend religious services',\n",
       "       'How often do you: Pray in public with visible motions (sign of the cross, bowing, prostration, shokeling, etc)',\n",
       "       'How often do you: Pray in public using some kind of physical object (rosary, tefillin, etc)',\n",
       "       'How often do you: Pray aloud before meals in the presence of people who don't belong to your religion',\n",
       "       'How often do you: Tell someone you'll pray for him or her',\n",
       "       'How often do you: Ask or offer to pray with someone',\n",
       "       'How often do you: Bring up your religion, unprompted, in conversation',\n",
       "       'How often do you: Ask others about their religion, unprompted, in conversation',\n",
       "       'How often do you: Decline some kind of food or beverage for religious reasons (kosher, halal, fasting rules, etc)',\n",
       "       'How often do you: Wear religious clothing/jewelry (hijab, kippah, wig, kara, turban, cross, etc)',\n",
       "       'How often do you: Participate in a public religious event on the streets (Corpus Christi procession, inauguration of Torah scrolls, etc)',\n",
       "       'How comfortable do you feel when you: Pray in public with visible motions (sign of the cross, bowing, prostration, shokeling, etc)',\n",
       "       'How comfortable do you feel when you: Pray in public using some kind of physical object (rosary, tefillin, etc)',\n",
       "       'How comfortable do you feel when you: Pray aloud before meals in the presence of people who don't belong to your religion',\n",
       "       'How comfortable do you feel when you: Tell someone you'll pray for him or her',\n",
       "       'How comfortable do you feel when you: Ask or offer to pray with someone',\n",
       "       'How comfortable do you feel when you: Bring up your religion, unprompted, in conversation',\n",
       "       'How comfortable do you feel when you: Ask others about their religion, unprompted, in conversation',\n",
       "       'How comfortable do you feel when you: Decline some kind of food or beverage for religious reasons (kosher, halal, fasting rules, etc)',\n",
       "       'How comfortable do you feel when you: Wear religious clothing/jewelry (hijab, kippah, wig, kara, turban, cross, etc)',\n",
       "       'How comfortable do you feel when you: Participate in a public religious event on the streets (Corpus Christi procession, inauguration of Torah scrolls, etc)',\n",
       "       'How comfortable do you think someone outside your religion would be if they saw you: Pray in public with visible motions (sign of the cross, bowing, prostration, shokeling, etc)',\n",
       "       'How comfortable do you think someone outside your religion would be if they saw you: Pray in public using some kind of physical object (rosary, tefillin, etc)',\n",
       "       'How comfortable do you think someone outside your religion would be if they saw you: Pray aloud before meals in the presence of people who don't belong to your religion',\n",
       "       'How comfortable do you think someone outside your religion would be if they saw you: Tell someone you'll pray for him or her',\n",
       "       'How comfortable do you think someone outside your religion would be if they saw you: Ask or offer to pray with someone',\n",
       "       'How comfortable do you think someone outside your religion would be if they saw you: Bring up your religion, unprompted, in conversation',\n",
       "       'How comfortable do you think someone outside your religion would be if they saw you: Ask others about their religion, unprompted, in conversation',\n",
       "       'How comfortable do you think someone outside your religion would be if they saw you: Decline some kind of food or beverage for religious reasons (kosher, halal, fasting rules, etc)',\n",
       "       'How comfortable do you think someone outside your religion would be if they saw you: Wear religious clothing/jewelry (hijab, kippah, wig, kara, turban, cross, etc)',\n",
       "       'How comfortable do you think someone outside your religion would be if they saw you: Participate in a public religious event on the streets (Corpus Christi procession, inauguration of Torah scrolls, etc)',\n",
       "       'How comfortable would you be seeing someone who practices a different religion from you: Pray in public with visible motions (sign of the cross, bowing, prostration, shokeling, etc)',\n",
       "       'How comfortable would you be seeing someone who practices a different religion from you: Pray in public using some kind of physical object (rosary, tefillin, etc)',\n",
       "       'How comfortable would you be seeing someone who practices a different religion from you: Pray aloud before meals in the presence of people who don't belong to that religion',\n",
       "       'How comfortable would you be seeing someone who practices a different religion from you: Tell someone \"I'll pray for you\"',\n",
       "       'How comfortable would you be seeing someone who practices a different religion from you: Ask or offer to pray with you',\n",
       "       'How comfortable would you be seeing someone who practices a different religion from you: Bring up his or her own religion, unprompted, in conversation',\n",
       "       'How comfortable would you be seeing someone who practices a different religion from you: Ask you about your religion, unprompted, in conversation',\n",
       "       'How comfortable would you be seeing someone who practices a different religion from you: Decline some kind of food or beverage for religious reasons (kosher, halal, fasting rules, etc)',\n",
       "       'How comfortable would you be seeing someone who practices a different religion from you: Wear religious clothing/jewelry (hijab, kippah, wig, kara, turban, cross, etc)',\n",
       "       'How comfortable would you be seeing someone who practices a different religion from you: Participate in a public religious event on the streets (Corpus Christi procession, inauguration of Torah scrolls, etc)',\n",
       "       'What is your age?', 'What is your gender?',\n",
       "       'How much total combined money did all members of your HOUSEHOLD earn last year?',\n",
       "       'US Region'],\n",
       "      dtype='object')"
      ]
     },
     "execution_count": 98,
     "metadata": {},
     "output_type": "execute_result"
    }
   ],
   "source": [
    "df.columns"
   ]
  },
  {
   "cell_type": "code",
   "execution_count": 99,
   "id": "c26d86e7",
   "metadata": {},
   "outputs": [],
   "source": [
    "df = df.rename(columns={\n",
    "        \"Do you consider yourself to be an evangelical?\" : \"Smatrate li da živite pobožno?\",\n",
    "        \"Do you attend religious services\" : \"Da li pohađate bogoslužbena mjesta\",\n",
    "        \"How often do you: Pray in public with visible motions (sign of the cross, bowing, prostration, shokeling, etc)\":\"Koliko često u javnosti koristite spoljašnje znakove pobožnosti?\",\n",
    "       'How often do you: Pray in public using some kind of physical object (rosary, tefillin, etc)':\"Koliko često u javnosti koristite neke religiozne predmete prilikom molitve?\",\n",
    "       'How often do you: Pray aloud before meals in the presence of people who don\\'t belong to your religion':'Koliko često se molite prije obroka pred ljudima koji ne pripadaju vašoj vjeroispovijesti?',\n",
    "       'How often do you: Tell someone you\\'ll pray for him or her':'Koliko često kažete nekome da ćete se moliti za nekoga?',\n",
    "       'How often do you: Ask or offer to pray with someone':\"Koliko često ponudite nekoga da se moli zajedno sa vama?\",\n",
    "       'How often do you: Ask others about their religion, unprompted, in conversation':'Koliko često nepozvani pominjete religiju u vašim razgovorima'})"
   ]
  },
  {
   "cell_type": "code",
   "execution_count": null,
   "id": "2615e6ad",
   "metadata": {},
   "outputs": [],
   "source": []
  },
  {
   "cell_type": "code",
   "execution_count": 100,
   "id": "077b31a8",
   "metadata": {},
   "outputs": [
    {
     "data": {
      "text/html": [
       "<div>\n",
       "<style scoped>\n",
       "    .dataframe tbody tr th:only-of-type {\n",
       "        vertical-align: middle;\n",
       "    }\n",
       "\n",
       "    .dataframe tbody tr th {\n",
       "        vertical-align: top;\n",
       "    }\n",
       "\n",
       "    .dataframe thead th {\n",
       "        text-align: right;\n",
       "    }\n",
       "</style>\n",
       "<table border=\"1\" class=\"dataframe\">\n",
       "  <thead>\n",
       "    <tr style=\"text-align: right;\">\n",
       "      <th></th>\n",
       "      <th>Koja je vaša vjeroispovijest?</th>\n",
       "      <th>Smatrate li da živite pobožno?</th>\n",
       "      <th>Da li pohađate bogoslužbena mjesta</th>\n",
       "      <th>Koliko često u javnosti koristite spoljašnje znakove pobožnosti?</th>\n",
       "      <th>Koliko često u javnosti koristite neke religiozne predmete prilikom molitve?</th>\n",
       "      <th>Koliko često se molite prije obroka pred ljudima koji ne pripadaju vašoj vjeroispovijesti?</th>\n",
       "      <th>Koliko često kažete nekome da ćete se moliti za nekoga?</th>\n",
       "      <th>Koliko često ponudite nekoga da se moli zajedno sa vama?</th>\n",
       "      <th>How often do you: Bring up your religion, unprompted, in conversation</th>\n",
       "      <th>Koliko često nepozvani pominjete religiju u vašim razgovorima</th>\n",
       "      <th>...</th>\n",
       "      <th>How comfortable would you be seeing someone who practices a different religion from you: Ask or offer to pray with you</th>\n",
       "      <th>How comfortable would you be seeing someone who practices a different religion from you: Bring up his or her own religion, unprompted, in conversation</th>\n",
       "      <th>How comfortable would you be seeing someone who practices a different religion from you: Ask you about your religion, unprompted, in conversation</th>\n",
       "      <th>How comfortable would you be seeing someone who practices a different religion from you: Decline some kind of food or beverage for religious reasons (kosher, halal, fasting rules, etc)</th>\n",
       "      <th>How comfortable would you be seeing someone who practices a different religion from you: Wear religious clothing/jewelry (hijab, kippah, wig, kara, turban, cross, etc)</th>\n",
       "      <th>How comfortable would you be seeing someone who practices a different religion from you: Participate in a public religious event on the streets (Corpus Christi procession, inauguration of Torah scrolls, etc)</th>\n",
       "      <th>What is your age?</th>\n",
       "      <th>What is your gender?</th>\n",
       "      <th>How much total combined money did all members of your HOUSEHOLD earn last year?</th>\n",
       "      <th>US Region</th>\n",
       "    </tr>\n",
       "  </thead>\n",
       "  <tbody>\n",
       "    <tr>\n",
       "      <th>0</th>\n",
       "      <td>Response</td>\n",
       "      <td>Response</td>\n",
       "      <td>Response</td>\n",
       "      <td>Response</td>\n",
       "      <td>Response</td>\n",
       "      <td>Response</td>\n",
       "      <td>Response</td>\n",
       "      <td>Response</td>\n",
       "      <td>Response</td>\n",
       "      <td>Response</td>\n",
       "      <td>...</td>\n",
       "      <td>Response</td>\n",
       "      <td>Response</td>\n",
       "      <td>Response</td>\n",
       "      <td>Response</td>\n",
       "      <td>Response</td>\n",
       "      <td>Response</td>\n",
       "      <td>Response</td>\n",
       "      <td>Response</td>\n",
       "      <td>Response</td>\n",
       "      <td>Response</td>\n",
       "    </tr>\n",
       "    <tr>\n",
       "      <th>1</th>\n",
       "      <td>None of these</td>\n",
       "      <td>No</td>\n",
       "      <td>Weekly or more</td>\n",
       "      <td>A few times per week</td>\n",
       "      <td>Not applicable to my religious beliefs</td>\n",
       "      <td>A few times per month</td>\n",
       "      <td>A few times per week</td>\n",
       "      <td>Never</td>\n",
       "      <td>A few times per month</td>\n",
       "      <td>A few times per month</td>\n",
       "      <td>...</td>\n",
       "      <td>Extremely comfortable</td>\n",
       "      <td>Extremely comfortable</td>\n",
       "      <td>Extremely comfortable</td>\n",
       "      <td>Extremely comfortable</td>\n",
       "      <td>Extremely comfortable</td>\n",
       "      <td>Extremely comfortable</td>\n",
       "      <td>18 - 29</td>\n",
       "      <td>Male</td>\n",
       "      <td>$0 to $9,999</td>\n",
       "      <td>East North Central</td>\n",
       "    </tr>\n",
       "    <tr>\n",
       "      <th>3</th>\n",
       "      <td>Protestant</td>\n",
       "      <td>No</td>\n",
       "      <td>Weekly or more</td>\n",
       "      <td>A few times per month</td>\n",
       "      <td>Never</td>\n",
       "      <td>Once a year or less</td>\n",
       "      <td>A few times per month</td>\n",
       "      <td>A few times per month</td>\n",
       "      <td>A few times per month</td>\n",
       "      <td>Once a month or less</td>\n",
       "      <td>...</td>\n",
       "      <td>Extremely comfortable</td>\n",
       "      <td>Extremely comfortable</td>\n",
       "      <td>Extremely comfortable</td>\n",
       "      <td>Extremely comfortable</td>\n",
       "      <td>Extremely comfortable</td>\n",
       "      <td>Extremely comfortable</td>\n",
       "      <td>18 - 29</td>\n",
       "      <td>Male</td>\n",
       "      <td>$25,000 to $49,999</td>\n",
       "      <td>East North Central</td>\n",
       "    </tr>\n",
       "    <tr>\n",
       "      <th>4</th>\n",
       "      <td>Muslim</td>\n",
       "      <td>No</td>\n",
       "      <td>Weekly or more</td>\n",
       "      <td>Every day</td>\n",
       "      <td>A few times per month</td>\n",
       "      <td>Never</td>\n",
       "      <td>Once a month or less</td>\n",
       "      <td>Once a month or less</td>\n",
       "      <td>Never</td>\n",
       "      <td>Once a year or less</td>\n",
       "      <td>...</td>\n",
       "      <td>Very comfortable</td>\n",
       "      <td>Very comfortable</td>\n",
       "      <td>Very comfortable</td>\n",
       "      <td>Very comfortable</td>\n",
       "      <td>Very comfortable</td>\n",
       "      <td>Very comfortable</td>\n",
       "      <td>18 - 29</td>\n",
       "      <td>Male</td>\n",
       "      <td>$0 to $9,999</td>\n",
       "      <td>South Atlantic</td>\n",
       "    </tr>\n",
       "    <tr>\n",
       "      <th>5</th>\n",
       "      <td>None of these</td>\n",
       "      <td>No</td>\n",
       "      <td>Weekly or more</td>\n",
       "      <td>Never</td>\n",
       "      <td>Never</td>\n",
       "      <td>Never</td>\n",
       "      <td>Once a month or less</td>\n",
       "      <td>A few times per month</td>\n",
       "      <td>Once a month or less</td>\n",
       "      <td>Once a year or less</td>\n",
       "      <td>...</td>\n",
       "      <td>Not so comfortable</td>\n",
       "      <td>Not so comfortable</td>\n",
       "      <td>Not so comfortable</td>\n",
       "      <td>Not so comfortable</td>\n",
       "      <td>Very comfortable</td>\n",
       "      <td>Somewhat comfortably</td>\n",
       "      <td>18 - 29</td>\n",
       "      <td>Male</td>\n",
       "      <td>$75,000 to $99,999</td>\n",
       "      <td>Pacific</td>\n",
       "    </tr>\n",
       "  </tbody>\n",
       "</table>\n",
       "<p>5 rows × 47 columns</p>\n",
       "</div>"
      ],
      "text/plain": [
       "  Koja je vaša vjeroispovijest? Smatrate li da živite pobožno?  \\\n",
       "0                      Response                       Response   \n",
       "1                 None of these                             No   \n",
       "3                    Protestant                             No   \n",
       "4                        Muslim                             No   \n",
       "5                 None of these                             No   \n",
       "\n",
       "  Da li pohađate bogoslužbena mjesta  \\\n",
       "0                           Response   \n",
       "1                     Weekly or more   \n",
       "3                     Weekly or more   \n",
       "4                     Weekly or more   \n",
       "5                     Weekly or more   \n",
       "\n",
       "  Koliko često u javnosti koristite spoljašnje znakove pobožnosti?  \\\n",
       "0                                           Response                 \n",
       "1                               A few times per week                 \n",
       "3                              A few times per month                 \n",
       "4                                          Every day                 \n",
       "5                                              Never                 \n",
       "\n",
       "  Koliko često u javnosti koristite neke religiozne predmete prilikom molitve?  \\\n",
       "0                                           Response                             \n",
       "1             Not applicable to my religious beliefs                             \n",
       "3                                              Never                             \n",
       "4                              A few times per month                             \n",
       "5                                              Never                             \n",
       "\n",
       "  Koliko često se molite prije obroka pred ljudima koji ne pripadaju vašoj vjeroispovijesti?  \\\n",
       "0                                           Response                                           \n",
       "1                              A few times per month                                           \n",
       "3                                Once a year or less                                           \n",
       "4                                              Never                                           \n",
       "5                                              Never                                           \n",
       "\n",
       "  Koliko često kažete nekome da ćete se moliti za nekoga?  \\\n",
       "0                                           Response        \n",
       "1                               A few times per week        \n",
       "3                              A few times per month        \n",
       "4                               Once a month or less        \n",
       "5                               Once a month or less        \n",
       "\n",
       "  Koliko često ponudite nekoga da se moli zajedno sa vama?  \\\n",
       "0                                           Response         \n",
       "1                                              Never         \n",
       "3                              A few times per month         \n",
       "4                               Once a month or less         \n",
       "5                              A few times per month         \n",
       "\n",
       "  How often do you: Bring up your religion, unprompted, in conversation  \\\n",
       "0                                           Response                      \n",
       "1                              A few times per month                      \n",
       "3                              A few times per month                      \n",
       "4                                              Never                      \n",
       "5                               Once a month or less                      \n",
       "\n",
       "  Koliko često nepozvani pominjete religiju u vašim razgovorima  ...  \\\n",
       "0                                           Response             ...   \n",
       "1                              A few times per month             ...   \n",
       "3                               Once a month or less             ...   \n",
       "4                                Once a year or less             ...   \n",
       "5                                Once a year or less             ...   \n",
       "\n",
       "  How comfortable would you be seeing someone who practices a different religion from you: Ask or offer to pray with you  \\\n",
       "0                                           Response                                                                       \n",
       "1                              Extremely comfortable                                                                       \n",
       "3                              Extremely comfortable                                                                       \n",
       "4                                   Very comfortable                                                                       \n",
       "5                                 Not so comfortable                                                                       \n",
       "\n",
       "  How comfortable would you be seeing someone who practices a different religion from you: Bring up his or her own religion, unprompted, in conversation  \\\n",
       "0                                           Response                                                                                                       \n",
       "1                              Extremely comfortable                                                                                                       \n",
       "3                              Extremely comfortable                                                                                                       \n",
       "4                                   Very comfortable                                                                                                       \n",
       "5                                 Not so comfortable                                                                                                       \n",
       "\n",
       "  How comfortable would you be seeing someone who practices a different religion from you: Ask you about your religion, unprompted, in conversation  \\\n",
       "0                                           Response                                                                                                  \n",
       "1                              Extremely comfortable                                                                                                  \n",
       "3                              Extremely comfortable                                                                                                  \n",
       "4                                   Very comfortable                                                                                                  \n",
       "5                                 Not so comfortable                                                                                                  \n",
       "\n",
       "  How comfortable would you be seeing someone who practices a different religion from you: Decline some kind of food or beverage for religious reasons (kosher, halal, fasting rules, etc)  \\\n",
       "0                                           Response                                                                                                                                         \n",
       "1                              Extremely comfortable                                                                                                                                         \n",
       "3                              Extremely comfortable                                                                                                                                         \n",
       "4                                   Very comfortable                                                                                                                                         \n",
       "5                                 Not so comfortable                                                                                                                                         \n",
       "\n",
       "  How comfortable would you be seeing someone who practices a different religion from you: Wear religious clothing/jewelry (hijab, kippah, wig, kara, turban, cross, etc)  \\\n",
       "0                                           Response                                                                                                                        \n",
       "1                              Extremely comfortable                                                                                                                        \n",
       "3                              Extremely comfortable                                                                                                                        \n",
       "4                                   Very comfortable                                                                                                                        \n",
       "5                                   Very comfortable                                                                                                                        \n",
       "\n",
       "  How comfortable would you be seeing someone who practices a different religion from you: Participate in a public religious event on the streets (Corpus Christi procession, inauguration of Torah scrolls, etc)  \\\n",
       "0                                           Response                                                                                                                                                                \n",
       "1                              Extremely comfortable                                                                                                                                                                \n",
       "3                              Extremely comfortable                                                                                                                                                                \n",
       "4                                   Very comfortable                                                                                                                                                                \n",
       "5                               Somewhat comfortably                                                                                                                                                                \n",
       "\n",
       "  What is your age? What is your gender?  \\\n",
       "0          Response             Response   \n",
       "1           18 - 29                 Male   \n",
       "3           18 - 29                 Male   \n",
       "4           18 - 29                 Male   \n",
       "5           18 - 29                 Male   \n",
       "\n",
       "  How much total combined money did all members of your HOUSEHOLD earn last year?  \\\n",
       "0                                           Response                                \n",
       "1                                       $0 to $9,999                                \n",
       "3                                 $25,000 to $49,999                                \n",
       "4                                       $0 to $9,999                                \n",
       "5                                 $75,000 to $99,999                                \n",
       "\n",
       "            US Region  \n",
       "0            Response  \n",
       "1  East North Central  \n",
       "3  East North Central  \n",
       "4      South Atlantic  \n",
       "5             Pacific  \n",
       "\n",
       "[5 rows x 47 columns]"
      ]
     },
     "execution_count": 100,
     "metadata": {},
     "output_type": "execute_result"
    }
   ],
   "source": [
    "df.head()"
   ]
  },
  {
   "cell_type": "code",
   "execution_count": 119,
   "id": "b7406d99",
   "metadata": {},
   "outputs": [],
   "source": [
    "pravoslavci = df.loc[(df[\"Koja je vaša vjeroispovijest?\"] == \"Orthodox Christian\") & (df[\"What is your gender?\"] == \"Male\")] [\"Da li pohađate bogoslužbena mjesta\"]"
   ]
  },
  {
   "cell_type": "code",
   "execution_count": 120,
   "id": "f121c394",
   "metadata": {},
   "outputs": [],
   "source": [
    "pravoslavke = df.loc[(df[\"Koja je vaša vjeroispovijest?\"] == \"Orthodox Christian\") & (df[\"What is your gender?\"] == \"Female\")] [\"Da li pohađate bogoslužbena mjesta\"]"
   ]
  },
  {
   "cell_type": "code",
   "execution_count": 107,
   "id": "06f3253c",
   "metadata": {},
   "outputs": [],
   "source": [
    "pravoslavni_pohadjanje = df.loc[(df[\"Koja je vaša vjeroispovijest?\"] == \"Orthodox Christian\")] [\"Da li pohađate bogoslužbena mjesta\"]"
   ]
  },
  {
   "cell_type": "code",
   "execution_count": 108,
   "id": "ab537c16",
   "metadata": {},
   "outputs": [],
   "source": [
    "katolici_pohadjanje = df.loc[(df[\"Koja je vaša vjeroispovijest?\"] == \"Roman Catholic\")] [\"Da li pohađate bogoslužbena mjesta\"]"
   ]
  },
  {
   "cell_type": "code",
   "execution_count": 148,
   "id": "06fbd879",
   "metadata": {},
   "outputs": [],
   "source": [
    "katolici =  df.loc[(df[\"Koja je vaša vjeroispovijest?\"] == \"Roman Catholic\") & (df[\"What is your gender?\"] == \"Male\")] [\"Da li pohađate bogoslužbena mjesta\"]"
   ]
  },
  {
   "cell_type": "code",
   "execution_count": 149,
   "id": "589111cd",
   "metadata": {},
   "outputs": [],
   "source": [
    "katolkinje =  df.loc[(df[\"Koja je vaša vjeroispovijest?\"] == \"Orthodox Christian\") & (df[\"What is your gender?\"] == \"Female\")] [\"Da li pohađate bogoslužbena mjesta\"]"
   ]
  },
  {
   "cell_type": "code",
   "execution_count": 115,
   "id": "3eb6b670",
   "metadata": {},
   "outputs": [
    {
     "data": {
      "text/plain": [
       "Less than weekly    23\n",
       "Weekly or more      16\n",
       "Never                9\n",
       "Name: Da li pohađate bogoslužbena mjesta, dtype: int64"
      ]
     },
     "execution_count": 115,
     "metadata": {},
     "output_type": "execute_result"
    }
   ],
   "source": [
    "pravoslavni_pohadjanje.value_counts()"
   ]
  },
  {
   "cell_type": "code",
   "execution_count": 126,
   "id": "4e37394c",
   "metadata": {},
   "outputs": [
    {
     "data": {
      "text/plain": [
       "Less than weekly    69\n",
       "Weekly or more      48\n",
       "Never               32\n",
       "Name: Da li pohađate bogoslužbena mjesta, dtype: int64"
      ]
     },
     "execution_count": 126,
     "metadata": {},
     "output_type": "execute_result"
    }
   ],
   "source": [
    "katolici_pohadjanje.value_counts()"
   ]
  },
  {
   "cell_type": "code",
   "execution_count": 121,
   "id": "7dd11fd4",
   "metadata": {},
   "outputs": [
    {
     "data": {
      "text/plain": [
       "Weekly or more      12\n",
       "Less than weekly    11\n",
       "Never                6\n",
       "Name: Da li pohađate bogoslužbena mjesta, dtype: int64"
      ]
     },
     "execution_count": 121,
     "metadata": {},
     "output_type": "execute_result"
    }
   ],
   "source": [
    "pravoslavci.value_counts()"
   ]
  },
  {
   "cell_type": "code",
   "execution_count": 128,
   "id": "48378e20",
   "metadata": {},
   "outputs": [
    {
     "data": {
      "text/plain": [
       "Less than weekly    12\n",
       "Weekly or more       4\n",
       "Never                3\n",
       "Name: Da li pohađate bogoslužbena mjesta, dtype: int64"
      ]
     },
     "execution_count": 128,
     "metadata": {},
     "output_type": "execute_result"
    }
   ],
   "source": [
    "pravoslavke.value_counts()"
   ]
  },
  {
   "cell_type": "code",
   "execution_count": 150,
   "id": "bc5780fb",
   "metadata": {},
   "outputs": [
    {
     "data": {
      "text/plain": [
       "Less than weekly    27\n",
       "Weekly or more      20\n",
       "Never               14\n",
       "Name: Da li pohađate bogoslužbena mjesta, dtype: int64"
      ]
     },
     "execution_count": 150,
     "metadata": {},
     "output_type": "execute_result"
    }
   ],
   "source": [
    "katolici.value_counts()"
   ]
  },
  {
   "cell_type": "code",
   "execution_count": 151,
   "id": "13c89d05",
   "metadata": {},
   "outputs": [
    {
     "data": {
      "text/plain": [
       "Less than weekly    12\n",
       "Weekly or more       4\n",
       "Never                3\n",
       "Name: Da li pohađate bogoslužbena mjesta, dtype: int64"
      ]
     },
     "execution_count": 151,
     "metadata": {},
     "output_type": "execute_result"
    }
   ],
   "source": [
    "katolkinje.value_counts()"
   ]
  },
  {
   "cell_type": "code",
   "execution_count": 167,
   "id": "941bfffa",
   "metadata": {},
   "outputs": [],
   "source": [
    "def pravoslavni_pohadjanje():\n",
    "    \n",
    "    labels = \"Weekly or more\", \"Less than weekly\", \"Never\"\n",
    "    sizes = [12.0, 11.0, 6.0]\n",
    "    \n",
    "    fig, ax = plt.subplots()\n",
    "    ax.pie(sizes, labels=labels)"
   ]
  },
  {
   "cell_type": "code",
   "execution_count": 152,
   "id": "0094e18b",
   "metadata": {},
   "outputs": [],
   "source": [
    "def pravoslavke_pohadjanje():\n",
    "    labels = \"Weekly or more\", \"Less than weekly\", \"Never\"\n",
    "    sizes = [4.0, 12.0, 3.0]\n",
    "    \n",
    "    fig, ax = plt.subplots()\n",
    "    ax.pie(sizes, labels=labels)"
   ]
  },
  {
   "cell_type": "code",
   "execution_count": 158,
   "id": "28c61774",
   "metadata": {},
   "outputs": [],
   "source": [
    "def katolici_pohadjanje():\n",
    "    labels = \"Weekly or more\", \"Less than weekly\", \"Never\"\n",
    "    sizes = [20.0, 27.0, 14.0]\n",
    "    \n",
    "    fig, ax = plt.subplots()\n",
    "    ax.pie(sizes, labels=labels)"
   ]
  },
  {
   "cell_type": "code",
   "execution_count": 163,
   "id": "8c263161",
   "metadata": {},
   "outputs": [],
   "source": [
    "def katolkinje_pohadjenje():\n",
    "    labels = \"Weekly or more\", \"Less than weekly\", \"Never\"\n",
    "    sizes = [4.0, 12.0, 3.0]\n",
    "    \n",
    "    fig, ax = plt.subplots()\n",
    "    ax.pie(sizes, labels=labels)"
   ]
  },
  {
   "cell_type": "code",
   "execution_count": 190,
   "id": "bb474357",
   "metadata": {},
   "outputs": [],
   "source": [
    "poredjenje = pd.DataFrame({\"Weekly or more\" : [12.0, 4.0, 20.0, 4.0],\n",
    "              \"Less than weekly\": [11.0, 12.0, 27.0, 12.0],\n",
    "              \"Never\":[6.0, 3.0, 14.0, 3.0]}, index=[\"Pravoslavci\", \"Pravoslavke\", \"Katolici\", \"Katolkinje\"])\n",
    "\n"
   ]
  },
  {
   "cell_type": "code",
   "execution_count": 191,
   "id": "1b5ab2e8",
   "metadata": {},
   "outputs": [
    {
     "name": "stdout",
     "output_type": "stream",
     "text": [
      "             Weekly or more  Less than weekly  Never\n",
      "Pravoslavci            12.0              11.0    6.0\n",
      "Pravoslavke             4.0              12.0    3.0\n",
      "Katolici               20.0              27.0   14.0\n",
      "Katolkinje              4.0              12.0    3.0\n"
     ]
    }
   ],
   "source": [
    "print(poredjenje)"
   ]
  },
  {
   "cell_type": "code",
   "execution_count": 203,
   "id": "b5c86c8b",
   "metadata": {},
   "outputs": [
    {
     "data": {
      "text/plain": [
       "array([<Axes: ylabel='Pravoslavci'>, <Axes: ylabel='Pravoslavke'>,\n",
       "       <Axes: ylabel='Katolici'>, <Axes: ylabel='Katolkinje'>],\n",
       "      dtype=object)"
      ]
     },
     "execution_count": 203,
     "metadata": {},
     "output_type": "execute_result"
    },
    {
     "data": {
      "image/png": "[encoded data removed]",
      "text/plain": [
       "<Figure size 2000x2000 with 4 Axes>"
      ]
     },
     "metadata": {},
     "output_type": "display_data"
    }
   ],
   "source": [
    "poredjenje.T.plot.pie(subplots=True, figsize=(20, 20))"
   ]
  },
  {
   "cell_type": "code",
   "execution_count": null,
   "id": "b02ba02b",
   "metadata": {},
   "outputs": [],
   "source": []
  },
  {
   "cell_type": "code",
   "execution_count": 156,
   "id": "46f948b5",
   "metadata": {},
   "outputs": [
    {
     "data": {
      "image/png": "[encoded data removed]",
      "text/plain": [
       "<Figure size 640x480 with 1 Axes>"
      ]
     },
     "metadata": {},
     "output_type": "display_data"
    }
   ],
   "source": [
    "pravoslavke_pohadjanje()"
   ]
  },
  {
   "cell_type": "code",
   "execution_count": 161,
   "id": "16f76cc1",
   "metadata": {},
   "outputs": [
    {
     "data": {
      "image/png": "[encoded data removed]",
      "text/plain": [
       "<Figure size 640x480 with 1 Axes>"
      ]
     },
     "metadata": {},
     "output_type": "display_data"
    }
   ],
   "source": [
    "katolici_pohadjanje()"
   ]
  },
  {
   "cell_type": "code",
   "execution_count": 164,
   "id": "11226ca3",
   "metadata": {},
   "outputs": [
    {
     "data": {
      "image/png": "[encoded data removed]",
      "text/plain": [
       "<Figure size 640x480 with 1 Axes>"
      ]
     },
     "metadata": {},
     "output_type": "display_data"
    }
   ],
   "source": [
    "katolkinje_pohadjenje()"
   ]
  },
  {
   "cell_type": "code",
   "execution_count": 171,
   "id": "e6cf8335",
   "metadata": {},
   "outputs": [
    {
     "ename": "AttributeError",
     "evalue": "module 'pandas' has no attribute 'rn'",
     "output_type": "error",
     "traceback": [
      "\u001b[1;31m---------------------------------------------------------------------------\u001b[0m",
      "\u001b[1;31mAttributeError\u001b[0m                            Traceback (most recent call last)",
      "Cell \u001b[1;32mIn[171], line 1\u001b[0m\n\u001b[1;32m----> 1\u001b[0m poredjenje \u001b[38;5;241m=\u001b[39m pd\u001b[38;5;241m.\u001b[39mrn({\u001b[38;5;124m'\u001b[39m\u001b[38;5;124mbeer\u001b[39m\u001b[38;5;124m'\u001b[39m:[\u001b[38;5;241m1\u001b[39m,\u001b[38;5;241m2\u001b[39m,\u001b[38;5;241m3\u001b[39m],\n\u001b[0;32m      2\u001b[0m                    \u001b[38;5;124m'\u001b[39m\u001b[38;5;124mspirit\u001b[39m\u001b[38;5;124m'\u001b[39m:[\u001b[38;5;241m4\u001b[39m,\u001b[38;5;241m5\u001b[39m,\u001b[38;5;241m6\u001b[39m],\n\u001b[0;32m      3\u001b[0m                    \u001b[38;5;124m'\u001b[39m\u001b[38;5;124mwine\u001b[39m\u001b[38;5;124m'\u001b[39m:[\u001b[38;5;241m7\u001b[39m,\u001b[38;5;241m8\u001b[39m,\u001b[38;5;241m9\u001b[39m]}, index\u001b[38;5;241m=\u001b[39m[\u001b[38;5;124m'\u001b[39m\u001b[38;5;124mAfrica\u001b[39m\u001b[38;5;124m'\u001b[39m,\u001b[38;5;124m'\u001b[39m\u001b[38;5;124mAsia\u001b[39m\u001b[38;5;124m'\u001b[39m,\u001b[38;5;124m'\u001b[39m\u001b[38;5;124mEurope\u001b[39m\u001b[38;5;124m'\u001b[39m])\n\u001b[0;32m      7\u001b[0m df\u001b[38;5;241m.\u001b[39mT\u001b[38;5;241m.\u001b[39mplot\u001b[38;5;241m.\u001b[39mpie(subplots\u001b[38;5;241m=\u001b[39m\u001b[38;5;28;01mTrue\u001b[39;00m, figsize\u001b[38;5;241m=\u001b[39m(\u001b[38;5;241m10\u001b[39m, \u001b[38;5;241m3\u001b[39m))\n",
      "File \u001b[1;32m~\\anaconda3\\Lib\\site-packages\\pandas\\__init__.py:264\u001b[0m, in \u001b[0;36m__getattr__\u001b[1;34m(name)\u001b[0m\n\u001b[0;32m    260\u001b[0m     \u001b[38;5;28;01mfrom\u001b[39;00m \u001b[38;5;21;01mpandas\u001b[39;00m\u001b[38;5;21;01m.\u001b[39;00m\u001b[38;5;21;01mcore\u001b[39;00m\u001b[38;5;21;01m.\u001b[39;00m\u001b[38;5;21;01marrays\u001b[39;00m\u001b[38;5;21;01m.\u001b[39;00m\u001b[38;5;21;01msparse\u001b[39;00m \u001b[38;5;28;01mimport\u001b[39;00m SparseArray \u001b[38;5;28;01mas\u001b[39;00m _SparseArray\n\u001b[0;32m    262\u001b[0m     \u001b[38;5;28;01mreturn\u001b[39;00m _SparseArray\n\u001b[1;32m--> 264\u001b[0m \u001b[38;5;28;01mraise\u001b[39;00m \u001b[38;5;167;01mAttributeError\u001b[39;00m(\u001b[38;5;124mf\u001b[39m\u001b[38;5;124m\"\u001b[39m\u001b[38;5;124mmodule \u001b[39m\u001b[38;5;124m'\u001b[39m\u001b[38;5;124mpandas\u001b[39m\u001b[38;5;124m'\u001b[39m\u001b[38;5;124m has no attribute \u001b[39m\u001b[38;5;124m'\u001b[39m\u001b[38;5;132;01m{\u001b[39;00mname\u001b[38;5;132;01m}\u001b[39;00m\u001b[38;5;124m'\u001b[39m\u001b[38;5;124m\"\u001b[39m)\n",
      "\u001b[1;31mAttributeError\u001b[0m: module 'pandas' has no attribute 'rn'"
     ]
    }
   ],
   "source": [
    "poredjenje = pd.rn({'beer':[1,2,3],\n",
    "                   'spirit':[4,5,6],\n",
    "                   'wine':[7,8,9]}, index=['Africa','Asia','Europe'])\n",
    "\n",
    "\n",
    "\n",
    "df.T.plot.pie(subplots=True, figsize=(10, 3))"
   ]
  },
  {
   "cell_type": "code",
   "execution_count": null,
   "id": "e149fc69",
   "metadata": {},
   "outputs": [],
   "source": []
  }
 ],
 "metadata": {
  "kernelspec": {
   "display_name": "Python 3 (ipykernel)",
   "language": "python",
   "name": "python3"
  },
  "language_info": {
   "codemirror_mode": {
    "name": "ipython",
    "version": 3
   },
   "file_extension": ".py",
   "mimetype": "text/x-python",
   "name": "python",
   "nbconvert_exporter": "python",
   "pygments_lexer": "ipython3",
   "version": "3.11.4"
  }
 },
 "nbformat": 4,
 "nbformat_minor": 5
}
